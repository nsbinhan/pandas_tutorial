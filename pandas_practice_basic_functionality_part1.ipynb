{
  "nbformat": 4,
  "nbformat_minor": 0,
  "metadata": {
    "colab": {
      "name": "pandas_practice_basic_functionality_part1.ipynb",
      "version": "0.3.2",
      "provenance": [],
      "collapsed_sections": []
    },
    "kernelspec": {
      "name": "python3",
      "display_name": "Python 3"
    },
    "accelerator": "GPU"
  },
  "cells": [
    {
      "metadata": {
        "id": "dhX-k6pSUv0f",
        "colab_type": "text"
      },
      "cell_type": "markdown",
      "source": [
        "# Note\n",
        "DataFrame is widely used, so that this tutorial focuses on it."
      ]
    },
    {
      "metadata": {
        "id": "7JAN1UNsYIxt",
        "colab_type": "text"
      },
      "cell_type": "markdown",
      "source": [
        "# Attributes"
      ]
    },
    {
      "metadata": {
        "id": "nLwYEW3_Uz4f",
        "colab_type": "code",
        "outputId": "1cf7ed33-0137-4e30-d9ef-d38c44171485",
        "colab": {
          "base_uri": "https://localhost:8080/",
          "height": 748
        }
      },
      "cell_type": "code",
      "source": [
        "import pandas as pd\n",
        "import numpy as np\n",
        "dict = {'A': 1,\n",
        "        'B': pd.Series(np.arange(3).astype(float)),\n",
        "        'C': np.array([3] * 3,dtype='int32'),\n",
        "        'D': pd.Categorical(['maths', 'physics', 'chemistry']),\n",
        "        'E': ['go', 'went', 'gone']\n",
        "       }\n",
        "df = pd.DataFrame(dict)\n",
        "print('Original df\\n', df)\n",
        "\n",
        "print('\\n Tranpose\\n', df.T)\n",
        "\n",
        "print('\\n Row axis labels and column axis labels\\n', df.axes)\n",
        "\n",
        "print('\\n Is it empty object?\\n', df.empty)\n",
        "\n",
        "print('\\n Number of dimensions\\n', df.ndim)\n",
        "\n",
        "print('\\n Number of elements\\n', df.size)\n",
        "\n",
        "print('\\n Represent the dimentsionality\\n', df.shape)\n",
        "\n",
        "print('\\n Return actual data as NDarray\\n', df.values)\n",
        "\n",
        "print('\\n The first 2 rows\\n', df.head(2))\n",
        "\n",
        "print('\\n The last 2 rows\\n', df.tail(2))"
      ],
      "execution_count": 88,
      "outputs": [
        {
          "output_type": "stream",
          "text": [
            "Original df\n",
            "    A    B  C          D     E\n",
            "0  1  0.0  3      maths    go\n",
            "1  1  1.0  3    physics  went\n",
            "2  1  2.0  3  chemistry  gone\n",
            "\n",
            " Tranpose\n",
            "        0        1          2\n",
            "A      1        1          1\n",
            "B      0        1          2\n",
            "C      3        3          3\n",
            "D  maths  physics  chemistry\n",
            "E     go     went       gone\n",
            "\n",
            " Row axis labels and column axis labels\n",
            " [RangeIndex(start=0, stop=3, step=1), Index(['A', 'B', 'C', 'D', 'E'], dtype='object')]\n",
            "\n",
            " Is it empty object?\n",
            " False\n",
            "\n",
            " Number of dimensions\n",
            " 2\n",
            "\n",
            " Number of elements\n",
            " 15\n",
            "\n",
            " Represent the dimentsionality\n",
            " (3, 5)\n",
            "\n",
            " Return actual data as NDarray\n",
            " [[1 0.0 3 'maths' 'go']\n",
            " [1 1.0 3 'physics' 'went']\n",
            " [1 2.0 3 'chemistry' 'gone']]\n",
            "\n",
            " The first 2 rows\n",
            "    A    B  C        D     E\n",
            "0  1  0.0  3    maths    go\n",
            "1  1  1.0  3  physics  went\n",
            "\n",
            " The last 2 rows\n",
            "    A    B  C          D     E\n",
            "1  1  1.0  3    physics  went\n",
            "2  1  2.0  3  chemistry  gone\n"
          ],
          "name": "stdout"
        }
      ]
    },
    {
      "metadata": {
        "id": "R8XhJZVqfrXU",
        "colab_type": "text"
      },
      "cell_type": "markdown",
      "source": [
        "# Statistics"
      ]
    },
    {
      "metadata": {
        "id": "bDU8w2yif9lS",
        "colab_type": "code",
        "outputId": "2f7d86c0-63be-4027-f6f8-f3b11e72f838",
        "colab": {
          "base_uri": "https://localhost:8080/",
          "height": 1751
        }
      },
      "cell_type": "code",
      "source": [
        "data = {'Name': ['Marie', 'Sarah', 'Tom', 'Jame'],\n",
        "        'Gender': ['Girl', 'Girl', 'Boy', 'Boy'],\n",
        "        'Grade': [3, 5, 6, 7],\n",
        "        'Age': [8, 10, 11, 12]\n",
        "       }\n",
        "df = pd.DataFrame(data)\n",
        "print(df)\n",
        "\n",
        "print('\\n Summerize statistics\\n')\n",
        "print('\\n For numberic columns (by default)\\n', df.describe())\n",
        "\n",
        "print('\\n For string columns\\n', df.describe(include=['object']))\n",
        "      \n",
        "print('\\n For all\\n', df.describe(include='all'))\n",
        "\n",
        "print('\\n Number of non-null value\\n', df.count())\n",
        "\n",
        "print('\\n Sum\\n', df.sum())\n",
        "\n",
        "print('\\n Mean\\n', df.mean())\n",
        "\n",
        "print('\\n Median\\n', df.median())\n",
        "\n",
        "print('\\n Standard deviation of the values\\n', df.std())\n",
        "\n",
        "print('\\n Minimum value\\n', df.min())\n",
        "\n",
        "print('\\n Maximum value\\n', df.max())\n",
        "\n",
        "\n",
        "print('\\n Product of values\\n', df.prod())\n",
        "\n",
        "print('\\n Cumulative sum\\n', df.cumsum())\n",
        "\n",
        "print('\\n Mode\\n', df.mode())"
      ],
      "execution_count": 87,
      "outputs": [
        {
          "output_type": "stream",
          "text": [
            "   Age Gender  Grade   Name\n",
            "0    8   Girl      3  Marie\n",
            "1   10   Girl      5  Sarah\n",
            "2   11    Boy      6    Tom\n",
            "3   12    Boy      7   Jame\n",
            "\n",
            " Summerize statistics\n",
            "\n",
            "\n",
            " For numberic columns (by default)\n",
            "              Age     Grade\n",
            "count   4.000000  4.000000\n",
            "mean   10.250000  5.250000\n",
            "std     1.707825  1.707825\n",
            "min     8.000000  3.000000\n",
            "25%     9.500000  4.500000\n",
            "50%    10.500000  5.500000\n",
            "75%    11.250000  6.250000\n",
            "max    12.000000  7.000000\n",
            "\n",
            " For string columns\n",
            "        Gender Name\n",
            "count       4    4\n",
            "unique      2    4\n",
            "top      Girl  Tom\n",
            "freq        2    1\n",
            "\n",
            " For all\n",
            "               Age Gender     Grade Name\n",
            "count    4.000000      4  4.000000    4\n",
            "unique        NaN      2       NaN    4\n",
            "top           NaN   Girl       NaN  Tom\n",
            "freq          NaN      2       NaN    1\n",
            "mean    10.250000    NaN  5.250000  NaN\n",
            "std      1.707825    NaN  1.707825  NaN\n",
            "min      8.000000    NaN  3.000000  NaN\n",
            "25%      9.500000    NaN  4.500000  NaN\n",
            "50%     10.500000    NaN  5.500000  NaN\n",
            "75%     11.250000    NaN  6.250000  NaN\n",
            "max     12.000000    NaN  7.000000  NaN\n",
            "\n",
            " Number of non-null value\n",
            " Age       4\n",
            "Gender    4\n",
            "Grade     4\n",
            "Name      4\n",
            "dtype: int64\n",
            "\n",
            " Sum\n",
            " Age                      41\n",
            "Gender       GirlGirlBoyBoy\n",
            "Grade                    21\n",
            "Name      MarieSarahTomJame\n",
            "dtype: object\n",
            "\n",
            " Mean\n",
            " Age      10.25\n",
            "Grade     5.25\n",
            "dtype: float64\n",
            "\n",
            " Median\n",
            " Age      10.5\n",
            "Grade     5.5\n",
            "dtype: float64\n",
            "\n",
            " Standard deviation of the values\n",
            " Age      1.707825\n",
            "Grade    1.707825\n",
            "dtype: float64\n",
            "\n",
            " Minimum value\n",
            " Age          8\n",
            "Gender     Boy\n",
            "Grade        3\n",
            "Name      Jame\n",
            "dtype: object\n",
            "\n",
            " Maximum value\n",
            " Age         12\n",
            "Gender    Girl\n",
            "Grade        7\n",
            "Name       Tom\n",
            "dtype: object\n",
            "\n",
            " Product of values\n",
            " Age      10560\n",
            "Grade      630\n",
            "dtype: int64\n",
            "\n",
            " Cumulative sum\n",
            "   Age          Gender Grade               Name\n",
            "0   8            Girl     3              Marie\n",
            "1  18        GirlGirl     8         MarieSarah\n",
            "2  29     GirlGirlBoy    14      MarieSarahTom\n",
            "3  41  GirlGirlBoyBoy    21  MarieSarahTomJame\n",
            "\n",
            " Mode\n",
            "    Age Gender  Grade   Name\n",
            "0    8    Boy      3   Jame\n",
            "1   10   Girl      5  Marie\n",
            "2   11    NaN      6  Sarah\n",
            "3   12    NaN      7    Tom\n"
          ],
          "name": "stdout"
        }
      ]
    },
    {
      "metadata": {
        "id": "wROEQXRglMlY",
        "colab_type": "text"
      },
      "cell_type": "markdown",
      "source": [
        "### Note: \n",
        "**abs()** and **cumprod()** throw exception when the DataFrame contains character of string data"
      ]
    },
    {
      "metadata": {
        "id": "qtmNcxg3jfUG",
        "colab_type": "code",
        "outputId": "750934ca-1121-47a0-c456-70ef7dabfb58",
        "colab": {
          "base_uri": "https://localhost:8080/",
          "height": 316
        }
      },
      "cell_type": "code",
      "source": [
        "print('\\n Absolute value\\n', df.abs())\n",
        "\n",
        "print('\\n Cumulative product\\n', df.cumprod())"
      ],
      "execution_count": 86,
      "outputs": [
        {
          "output_type": "error",
          "ename": "TypeError",
          "evalue": "ignored",
          "traceback": [
            "\u001b[0;31m---------------------------------------------------------------------------\u001b[0m",
            "\u001b[0;31mTypeError\u001b[0m                                 Traceback (most recent call last)",
            "\u001b[0;32m<ipython-input-86-b576eea145fc>\u001b[0m in \u001b[0;36m<module>\u001b[0;34m()\u001b[0m\n\u001b[0;32m----> 1\u001b[0;31m \u001b[0mprint\u001b[0m\u001b[0;34m(\u001b[0m\u001b[0;34m'\\n Absolute value\\n'\u001b[0m\u001b[0;34m,\u001b[0m \u001b[0mdf\u001b[0m\u001b[0;34m.\u001b[0m\u001b[0mabs\u001b[0m\u001b[0;34m(\u001b[0m\u001b[0;34m)\u001b[0m\u001b[0;34m)\u001b[0m\u001b[0;34m\u001b[0m\u001b[0;34m\u001b[0m\u001b[0m\n\u001b[0m\u001b[1;32m      2\u001b[0m \u001b[0;34m\u001b[0m\u001b[0m\n\u001b[1;32m      3\u001b[0m \u001b[0mprint\u001b[0m\u001b[0;34m(\u001b[0m\u001b[0;34m'\\n Cumulative product\\n'\u001b[0m\u001b[0;34m,\u001b[0m \u001b[0mdf\u001b[0m\u001b[0;34m.\u001b[0m\u001b[0mcumprod\u001b[0m\u001b[0;34m(\u001b[0m\u001b[0;34m)\u001b[0m\u001b[0;34m)\u001b[0m\u001b[0;34m\u001b[0m\u001b[0;34m\u001b[0m\u001b[0m\n",
            "\u001b[0;32m/usr/local/lib/python3.6/dist-packages/pandas/core/generic.py\u001b[0m in \u001b[0;36mabs\u001b[0;34m(self)\u001b[0m\n\u001b[1;32m   6513\u001b[0m         \u001b[0mabs\u001b[0m\u001b[0;34m:\u001b[0m \u001b[0mtype\u001b[0m \u001b[0mof\u001b[0m \u001b[0mcaller\u001b[0m\u001b[0;34m\u001b[0m\u001b[0;34m\u001b[0m\u001b[0m\n\u001b[1;32m   6514\u001b[0m         \"\"\"\n\u001b[0;32m-> 6515\u001b[0;31m         \u001b[0;32mreturn\u001b[0m \u001b[0mnp\u001b[0m\u001b[0;34m.\u001b[0m\u001b[0mabs\u001b[0m\u001b[0;34m(\u001b[0m\u001b[0mself\u001b[0m\u001b[0;34m)\u001b[0m\u001b[0;34m\u001b[0m\u001b[0;34m\u001b[0m\u001b[0m\n\u001b[0m\u001b[1;32m   6516\u001b[0m \u001b[0;34m\u001b[0m\u001b[0m\n\u001b[1;32m   6517\u001b[0m     \u001b[0;32mdef\u001b[0m \u001b[0mdescribe\u001b[0m\u001b[0;34m(\u001b[0m\u001b[0mself\u001b[0m\u001b[0;34m,\u001b[0m \u001b[0mpercentiles\u001b[0m\u001b[0;34m=\u001b[0m\u001b[0;32mNone\u001b[0m\u001b[0;34m,\u001b[0m \u001b[0minclude\u001b[0m\u001b[0;34m=\u001b[0m\u001b[0;32mNone\u001b[0m\u001b[0;34m,\u001b[0m \u001b[0mexclude\u001b[0m\u001b[0;34m=\u001b[0m\u001b[0;32mNone\u001b[0m\u001b[0;34m)\u001b[0m\u001b[0;34m:\u001b[0m\u001b[0;34m\u001b[0m\u001b[0;34m\u001b[0m\u001b[0m\n",
            "\u001b[0;31mTypeError\u001b[0m: bad operand type for abs(): 'str'"
          ]
        }
      ]
    },
    {
      "metadata": {
        "id": "bEYU9nnm-WQz",
        "colab_type": "text"
      },
      "cell_type": "markdown",
      "source": [
        "# Reindex"
      ]
    },
    {
      "metadata": {
        "id": "ebty13XGDfQ1",
        "colab_type": "text"
      },
      "cell_type": "markdown",
      "source": [
        "## Reindex"
      ]
    },
    {
      "metadata": {
        "id": "2ZQ-gHrUDjdO",
        "colab_type": "code",
        "outputId": "20fdb8f4-9880-4ffc-99df-dcc7eeb13ee4",
        "colab": {
          "base_uri": "https://localhost:8080/",
          "height": 204
        }
      },
      "cell_type": "code",
      "source": [
        "data = {'Name': ['Marie', 'Sarah', 'Tom', 'Jame'],\n",
        "        'Gender': ['Girl', 'Girl', 'Boy', 'Boy'],\n",
        "        'Grade': [3, 5, 6, 7],\n",
        "        'Age': [8, 10, 11, 12]\n",
        "       }\n",
        "df = pd.DataFrame(data)\n",
        "print('Original data\\n', df)\n",
        "\n",
        "df_reindexed = df.reindex(index=[1, 3], columns=['Name', 'Gender', 'ID'])\n",
        "print('\\n At 1 & 3 of columns Name & Gender\\n', df_reindexed)"
      ],
      "execution_count": 85,
      "outputs": [
        {
          "output_type": "stream",
          "text": [
            "Original data\n",
            "    Age Gender  Grade   Name\n",
            "0    8   Girl      3  Marie\n",
            "1   10   Girl      5  Sarah\n",
            "2   11    Boy      6    Tom\n",
            "3   12    Boy      7   Jame\n",
            "\n",
            " At 1 & 3 of columns Name & Gender\n",
            "     Name Gender  ID\n",
            "1  Sarah   Girl NaN\n",
            "3   Jame    Boy NaN\n"
          ],
          "name": "stdout"
        }
      ]
    },
    {
      "metadata": {
        "id": "ufT08PInEbFI",
        "colab_type": "text"
      },
      "cell_type": "markdown",
      "source": [
        "## Reindex to align with other objects"
      ]
    },
    {
      "metadata": {
        "id": "fZ3BYSXBEiF6",
        "colab_type": "code",
        "outputId": "fef5b5d7-cc10-41ed-eea4-3dfd702e1b42",
        "colab": {
          "base_uri": "https://localhost:8080/",
          "height": 714
        }
      },
      "cell_type": "code",
      "source": [
        "df1 = pd.DataFrame(np.arange(30).reshape(6,5).astype(float), \n",
        "                   columns=['c0', 'c1', 'c2', 'c3', 'c4'])\n",
        "df2 = pd.DataFrame(np.arange(9).reshape(3,3).astype(float), \n",
        "                   columns=['c0', 'c1', 'c2'])\n",
        "\n",
        "print('df1\\n', df1)\n",
        "print('\\n df2\\n', df2)\n",
        "\n",
        "print('\\n Align df2 with df1, fill with NAN\\n', df2.reindex_like(df1))\n",
        "\n",
        "print('\\n Fill with preceding values\\n', \n",
        "      df2.reindex_like(df1, method='ffill'))\n",
        "\n",
        "print('\\n Forward fill, limit to 1 (row $ column)\\n', \n",
        "      df2.reindex_like(df1, method='ffill', limit=1))\n",
        "\n",
        "\n"
      ],
      "execution_count": 84,
      "outputs": [
        {
          "output_type": "stream",
          "text": [
            "df1\n",
            "      c0    c1    c2    c3    c4\n",
            "0   0.0   1.0   2.0   3.0   4.0\n",
            "1   5.0   6.0   7.0   8.0   9.0\n",
            "2  10.0  11.0  12.0  13.0  14.0\n",
            "3  15.0  16.0  17.0  18.0  19.0\n",
            "4  20.0  21.0  22.0  23.0  24.0\n",
            "5  25.0  26.0  27.0  28.0  29.0\n",
            "\n",
            " df2\n",
            "     c0   c1   c2\n",
            "0  0.0  1.0  2.0\n",
            "1  3.0  4.0  5.0\n",
            "2  6.0  7.0  8.0\n",
            "\n",
            " Align df2 with df1, fill with NAN\n",
            "     c0   c1   c2  c3  c4\n",
            "0  0.0  1.0  2.0 NaN NaN\n",
            "1  3.0  4.0  5.0 NaN NaN\n",
            "2  6.0  7.0  8.0 NaN NaN\n",
            "3  NaN  NaN  NaN NaN NaN\n",
            "4  NaN  NaN  NaN NaN NaN\n",
            "5  NaN  NaN  NaN NaN NaN\n",
            "\n",
            " Fill with preceding values\n",
            "     c0   c1   c2   c3   c4\n",
            "0  0.0  1.0  2.0  2.0  2.0\n",
            "1  3.0  4.0  5.0  5.0  5.0\n",
            "2  6.0  7.0  8.0  8.0  8.0\n",
            "3  6.0  7.0  8.0  8.0  8.0\n",
            "4  6.0  7.0  8.0  8.0  8.0\n",
            "5  6.0  7.0  8.0  8.0  8.0\n",
            "\n",
            " Forward fill, limit to 1 (row $ column)\n",
            "     c0   c1   c2   c3  c4\n",
            "0  0.0  1.0  2.0  2.0 NaN\n",
            "1  3.0  4.0  5.0  5.0 NaN\n",
            "2  6.0  7.0  8.0  8.0 NaN\n",
            "3  6.0  7.0  8.0  8.0 NaN\n",
            "4  NaN  NaN  NaN  NaN NaN\n",
            "5  NaN  NaN  NaN  NaN NaN\n"
          ],
          "name": "stdout"
        }
      ]
    },
    {
      "metadata": {
        "id": "_YN4aetKGE3t",
        "colab_type": "text"
      },
      "cell_type": "markdown",
      "source": [
        "## Rename"
      ]
    },
    {
      "metadata": {
        "id": "g32FvlsDKAov",
        "colab_type": "code",
        "outputId": "8ec1ea76-c7f4-43bf-ce33-9add70d88a1f",
        "colab": {
          "base_uri": "https://localhost:8080/",
          "height": 306
        }
      },
      "cell_type": "code",
      "source": [
        "df = pd.DataFrame(np.arange(9).reshape(3,3).astype(float), \n",
        "                   columns=['c0', 'c1', 'c2'])\n",
        "\n",
        "print('Original data\\n', df)\n",
        "\n",
        "df = df.rename(columns={'c0': 'col0',\n",
        "                   'c1': 'col1',\n",
        "                   'c2': 'col2'\n",
        "                  })\n",
        "print('\\n After rename columns\\n', df)\n",
        "\n",
        "df = df.rename(index={0: 'idx0',\n",
        "                   1: 'idx1',\n",
        "                   2: 'idx2'\n",
        "                  })\n",
        "print('\\n After rename rows\\n', df)"
      ],
      "execution_count": 83,
      "outputs": [
        {
          "output_type": "stream",
          "text": [
            "Original data\n",
            "     c0   c1   c2\n",
            "0  0.0  1.0  2.0\n",
            "1  3.0  4.0  5.0\n",
            "2  6.0  7.0  8.0\n",
            "\n",
            " After rename columns\n",
            "    col0  col1  col2\n",
            "0   0.0   1.0   2.0\n",
            "1   3.0   4.0   5.0\n",
            "2   6.0   7.0   8.0\n",
            "\n",
            " After rename rows\n",
            "       col0  col1  col2\n",
            "idx0   0.0   1.0   2.0\n",
            "idx1   3.0   4.0   5.0\n",
            "idx2   6.0   7.0   8.0\n"
          ],
          "name": "stdout"
        }
      ]
    },
    {
      "metadata": {
        "id": "aqvkxr6TOdny",
        "colab_type": "text"
      },
      "cell_type": "markdown",
      "source": [
        "## Replace"
      ]
    },
    {
      "metadata": {
        "id": "SkN3pWncOe-m",
        "colab_type": "code",
        "outputId": "77a64567-1e2b-4fdb-aa3d-3f582fb2cce0",
        "colab": {
          "base_uri": "https://localhost:8080/",
          "height": 544
        }
      },
      "cell_type": "code",
      "source": [
        "df = pd.DataFrame({'A': [0, 1, 2, 3, 4],\n",
        "                   'B': [5, 6, 7, 8, 9],\n",
        "                   'C': ['a', 'b', 'c', 'd', 'e']\n",
        "                  })\n",
        "\n",
        "print('Replace value at index 0 of first column (A) by 11\\n', \n",
        "      df.replace(0, 11))\n",
        "\n",
        "print('\\n Replace value at index 1 & 2 of the first column (A) by 13\\n', \n",
        "      df.replace([1, 2], 13))\n",
        "\n",
        "# dict-like\n",
        "print('\\n Replace value at index 1 & 2 of the first column (A) by 15\\n', \n",
        "      df.replace({1: 15, 2: 15}))\n",
        "\n",
        "print('\\n Replace value at index 1 & 2 of column A by 17\\n', \n",
        "      df.replace({'A': [1, 2]}, 17))"
      ],
      "execution_count": 82,
      "outputs": [
        {
          "output_type": "stream",
          "text": [
            "Replace value at index 0 of first column (A) by 11\n",
            "     A  B  C\n",
            "0  11  5  a\n",
            "1   1  6  b\n",
            "2   2  7  c\n",
            "3   3  8  d\n",
            "4   4  9  e\n",
            "\n",
            " Replace value at index 1 & 2 of the first column (A) by 13\n",
            "     A  B  C\n",
            "0   0  5  a\n",
            "1  13  6  b\n",
            "2  13  7  c\n",
            "3   3  8  d\n",
            "4   4  9  e\n",
            "\n",
            " Replace value at index 1 & 2 of the first column (A) by 15\n",
            "     A  B  C\n",
            "0   0  5  a\n",
            "1  15  6  b\n",
            "2  15  7  c\n",
            "3   3  8  d\n",
            "4   4  9  e\n",
            "\n",
            " Replace value at index 1 & 2 of column A by 17\n",
            "     A  B  C\n",
            "0   0  5  a\n",
            "1  17  6  b\n",
            "2  17  7  c\n",
            "3   3  8  d\n",
            "4   4  9  e\n"
          ],
          "name": "stdout"
        }
      ]
    },
    {
      "metadata": {
        "id": "iqnt6V51hokH",
        "colab_type": "text"
      },
      "cell_type": "markdown",
      "source": [
        "# Iteration"
      ]
    },
    {
      "metadata": {
        "id": "KQQTQPyMic5x",
        "colab_type": "text"
      },
      "cell_type": "markdown",
      "source": [
        "## Column names are given"
      ]
    },
    {
      "metadata": {
        "id": "z2mt1s0DhrNo",
        "colab_type": "code",
        "outputId": "04c37f19-1642-4996-caff-3c0a9a7508fe",
        "colab": {
          "base_uri": "https://localhost:8080/",
          "height": 68
        }
      },
      "cell_type": "code",
      "source": [
        "df = pd.DataFrame({'A': [0, 1, 2, 3, 4],\n",
        "                   'B': [5, 6, 7, 8, 9],\n",
        "                   'C': ['a', 'b', 'c', 'd', 'e']\n",
        "                  })\n",
        "\n",
        "for col in df:\n",
        "  print(col)"
      ],
      "execution_count": 81,
      "outputs": [
        {
          "output_type": "stream",
          "text": [
            "A\n",
            "B\n",
            "C\n"
          ],
          "name": "stdout"
        }
      ]
    },
    {
      "metadata": {
        "id": "YPrg0xY1i083",
        "colab_type": "text"
      },
      "cell_type": "markdown",
      "source": [
        "## Iterate over the columns"
      ]
    },
    {
      "metadata": {
        "id": "lyTeFA3wi83A",
        "colab_type": "code",
        "outputId": "593f5610-7ee4-4fae-d2df-e3971e5a0093",
        "colab": {
          "base_uri": "https://localhost:8080/",
          "height": 374
        }
      },
      "cell_type": "code",
      "source": [
        "df = pd.DataFrame({'A': [0, 1, 2, 3, 4],\n",
        "                   'B': [5, 6, 7, 8, 9],\n",
        "                   'C': ['a', 'b', 'c', 'd', 'e']\n",
        "                  })\n",
        "\n",
        "for key, value in df.iteritems():\n",
        "    print(key, ' :\\n', value)"
      ],
      "execution_count": 80,
      "outputs": [
        {
          "output_type": "stream",
          "text": [
            "A  :\n",
            " 0    0\n",
            "1    1\n",
            "2    2\n",
            "3    3\n",
            "4    4\n",
            "Name: A, dtype: int64\n",
            "B  :\n",
            " 0    5\n",
            "1    6\n",
            "2    7\n",
            "3    8\n",
            "4    9\n",
            "Name: B, dtype: int64\n",
            "C  :\n",
            " 0    a\n",
            "1    b\n",
            "2    c\n",
            "3    d\n",
            "4    e\n",
            "Name: C, dtype: object\n"
          ],
          "name": "stdout"
        }
      ]
    },
    {
      "metadata": {
        "id": "Fg46lfpZjx_-",
        "colab_type": "text"
      },
      "cell_type": "markdown",
      "source": [
        "## Iterate over the rows"
      ]
    },
    {
      "metadata": {
        "id": "nbXpOOr_j0aU",
        "colab_type": "code",
        "outputId": "97868544-dd1f-4903-f9ad-4a8e911ff710",
        "colab": {
          "base_uri": "https://localhost:8080/",
          "height": 612
        }
      },
      "cell_type": "code",
      "source": [
        "df = pd.DataFrame({'A': [0, 1, 2, 3, 4],\n",
        "                   'B': [5, 6, 7, 8, 9],\n",
        "                   'C': ['a', 'b', 'c', 'd', 'e']\n",
        "                  })\n",
        "\n",
        "print('iterrows()\\n')\n",
        "for row_idx, row in df.iterrows():\n",
        "    print(row_idx, ' :\\n', row)\n",
        "  \n",
        "print('\\n itertupbles()\\n')\n",
        "for row in df.itertuples():\n",
        "    print(row)"
      ],
      "execution_count": 79,
      "outputs": [
        {
          "output_type": "stream",
          "text": [
            "iterrows()\n",
            "\n",
            "0  :\n",
            " A    0\n",
            "B    5\n",
            "C    a\n",
            "Name: 0, dtype: object\n",
            "1  :\n",
            " A    1\n",
            "B    6\n",
            "C    b\n",
            "Name: 1, dtype: object\n",
            "2  :\n",
            " A    2\n",
            "B    7\n",
            "C    c\n",
            "Name: 2, dtype: object\n",
            "3  :\n",
            " A    3\n",
            "B    8\n",
            "C    d\n",
            "Name: 3, dtype: object\n",
            "4  :\n",
            " A    4\n",
            "B    9\n",
            "C    e\n",
            "Name: 4, dtype: object\n",
            "\n",
            " itertupbles()\n",
            "\n",
            "Pandas(Index=0, A=0, B=5, C='a')\n",
            "Pandas(Index=1, A=1, B=6, C='b')\n",
            "Pandas(Index=2, A=2, B=7, C='c')\n",
            "Pandas(Index=3, A=3, B=8, C='d')\n",
            "Pandas(Index=4, A=4, B=9, C='e')\n"
          ],
          "name": "stdout"
        }
      ]
    },
    {
      "metadata": {
        "id": "qALumGLclLVi",
        "colab_type": "text"
      },
      "cell_type": "markdown",
      "source": [
        "# Sort"
      ]
    },
    {
      "metadata": {
        "id": "fhc9VgbPlO2K",
        "colab_type": "code",
        "outputId": "462ef9e3-583c-4a6b-a461-80915a223852",
        "colab": {
          "base_uri": "https://localhost:8080/",
          "height": 1105
        }
      },
      "cell_type": "code",
      "source": [
        "df = pd.DataFrame(np.random.randn(10, 3),\n",
        "                  index=['A', 'D', 'J', 'B', 'H', 'I', 'G', 'E', 'F', 'C'],\n",
        "                  columns=['col3', 'col2', 'col1']\n",
        "                 )\n",
        "print('Original data\\n', df)\n",
        "\n",
        "print('\\n Sort by index (row)\\n', df.sort_index(axis=0))\n",
        "\n",
        "print('\\n Sort by column names\\n', df.sort_index(axis=1))\n",
        "\n",
        "print('\\n Sort by column 1 (col1)\\n', df.sort_values(by='col1'))\n",
        "\n",
        "print('\\n Sort by col1 with algorithm mergesort\\n', \n",
        "      df.sort_values(by='col1', kind='mergesort'))"
      ],
      "execution_count": 78,
      "outputs": [
        {
          "output_type": "stream",
          "text": [
            "Original data\n",
            "        col3      col2      col1\n",
            "A -1.150931  0.439568 -0.761102\n",
            "D -0.874625  0.399521 -0.162380\n",
            "J  0.677795  0.849324  0.107412\n",
            "B -0.299870 -2.267087  0.030635\n",
            "H -0.626967  1.052181 -0.057729\n",
            "I  0.660541 -0.354359 -0.284746\n",
            "G -1.195798 -1.315937 -1.071070\n",
            "E  0.081645 -0.479998 -1.057665\n",
            "F -0.134720 -0.724843  0.557157\n",
            "C -0.399978  1.680199 -0.080021\n",
            "\n",
            " Sort by index (row)\n",
            "        col3      col2      col1\n",
            "A -1.150931  0.439568 -0.761102\n",
            "B -0.299870 -2.267087  0.030635\n",
            "C -0.399978  1.680199 -0.080021\n",
            "D -0.874625  0.399521 -0.162380\n",
            "E  0.081645 -0.479998 -1.057665\n",
            "F -0.134720 -0.724843  0.557157\n",
            "G -1.195798 -1.315937 -1.071070\n",
            "H -0.626967  1.052181 -0.057729\n",
            "I  0.660541 -0.354359 -0.284746\n",
            "J  0.677795  0.849324  0.107412\n",
            "\n",
            " Sort by column names\n",
            "        col1      col2      col3\n",
            "A -0.761102  0.439568 -1.150931\n",
            "D -0.162380  0.399521 -0.874625\n",
            "J  0.107412  0.849324  0.677795\n",
            "B  0.030635 -2.267087 -0.299870\n",
            "H -0.057729  1.052181 -0.626967\n",
            "I -0.284746 -0.354359  0.660541\n",
            "G -1.071070 -1.315937 -1.195798\n",
            "E -1.057665 -0.479998  0.081645\n",
            "F  0.557157 -0.724843 -0.134720\n",
            "C -0.080021  1.680199 -0.399978\n",
            "\n",
            " Sort by column 1 (col1)\n",
            "        col3      col2      col1\n",
            "G -1.195798 -1.315937 -1.071070\n",
            "E  0.081645 -0.479998 -1.057665\n",
            "A -1.150931  0.439568 -0.761102\n",
            "I  0.660541 -0.354359 -0.284746\n",
            "D -0.874625  0.399521 -0.162380\n",
            "C -0.399978  1.680199 -0.080021\n",
            "H -0.626967  1.052181 -0.057729\n",
            "B -0.299870 -2.267087  0.030635\n",
            "J  0.677795  0.849324  0.107412\n",
            "F -0.134720 -0.724843  0.557157\n",
            "\n",
            " Sort by col1 with algorithm mergesort\n",
            "        col3      col2      col1\n",
            "G -1.195798 -1.315937 -1.071070\n",
            "E  0.081645 -0.479998 -1.057665\n",
            "A -1.150931  0.439568 -0.761102\n",
            "I  0.660541 -0.354359 -0.284746\n",
            "D -0.874625  0.399521 -0.162380\n",
            "C -0.399978  1.680199 -0.080021\n",
            "H -0.626967  1.052181 -0.057729\n",
            "B -0.299870 -2.267087  0.030635\n",
            "J  0.677795  0.849324  0.107412\n",
            "F -0.134720 -0.724843  0.557157\n"
          ],
          "name": "stdout"
        }
      ]
    },
    {
      "metadata": {
        "id": "YmKyhyoUxCCD",
        "colab_type": "text"
      },
      "cell_type": "markdown",
      "source": [
        "# Missing data"
      ]
    },
    {
      "metadata": {
        "id": "Mt9n8lXXyNcU",
        "colab_type": "text"
      },
      "cell_type": "markdown",
      "source": [
        "## Check missing data"
      ]
    },
    {
      "metadata": {
        "id": "GLD_6SUXxEdq",
        "colab_type": "code",
        "outputId": "3c9df3dd-b49f-430b-aa2b-138f4ed703d7",
        "colab": {
          "base_uri": "https://localhost:8080/",
          "height": 578
        }
      },
      "cell_type": "code",
      "source": [
        "df = pd.DataFrame(np.random.randn(4, 3),\n",
        "                  index=['A', 'C', 'E', 'F'],\n",
        "                  columns=['col3', 'col2', 'col1']\n",
        "                 )\n",
        "print('Original data\\n', df)\n",
        "\n",
        "df = df.reindex(['A', 'B', 'C', 'D', 'E', 'F'])\n",
        "\n",
        "print('\\n Reindex data\\n', df)\n",
        "\n",
        "print('\\n Check NA in col1 & col2\\n', df[['col1', 'col2']].isnull())\n",
        "\n",
        "print('\\n Check NA in col3\\n', df['col3'].notnull())"
      ],
      "execution_count": 77,
      "outputs": [
        {
          "output_type": "stream",
          "text": [
            "Original data\n",
            "        col3      col2      col1\n",
            "A  0.381400  1.004034  0.172994\n",
            "C -1.222021  0.127081 -2.161059\n",
            "E -0.742979  0.338172 -1.169869\n",
            "F -0.031620  0.952479  1.089390\n",
            "\n",
            " Reindex data\n",
            "        col3      col2      col1\n",
            "A  0.381400  1.004034  0.172994\n",
            "B       NaN       NaN       NaN\n",
            "C -1.222021  0.127081 -2.161059\n",
            "D       NaN       NaN       NaN\n",
            "E -0.742979  0.338172 -1.169869\n",
            "F -0.031620  0.952479  1.089390\n",
            "\n",
            " Check NA in col1 & col2\n",
            "     col1   col2\n",
            "A  False  False\n",
            "B   True   True\n",
            "C  False  False\n",
            "D   True   True\n",
            "E  False  False\n",
            "F  False  False\n",
            "\n",
            " Check NA in col3\n",
            " A     True\n",
            "B    False\n",
            "C     True\n",
            "D    False\n",
            "E     True\n",
            "F     True\n",
            "Name: col3, dtype: bool\n"
          ],
          "name": "stdout"
        }
      ]
    },
    {
      "metadata": {
        "id": "jZUlfPCRyPyl",
        "colab_type": "text"
      },
      "cell_type": "markdown",
      "source": [
        "## Clean / Fill missing data"
      ]
    },
    {
      "metadata": {
        "id": "d7FCLvvDyXre",
        "colab_type": "code",
        "outputId": "859ec58c-8d9b-46d3-ab16-87358bd27ba8",
        "colab": {
          "base_uri": "https://localhost:8080/",
          "height": 850
        }
      },
      "cell_type": "code",
      "source": [
        "df = pd.DataFrame(np.random.randn(4, 3),\n",
        "                  index=['A', 'C', 'E', 'F'],\n",
        "                  columns=['col3', 'col2', 'col1']\n",
        "                 )\n",
        "print('Original data\\n', df)\n",
        "\n",
        "df = df.reindex(['A', 'B', 'C', 'D', 'E', 'F'])\n",
        "\n",
        "print('\\n Reindex data\\n', df)\n",
        "\n",
        "print('\\n Fill NA with scalar value (ex: 0)\\n', df.fillna(0))\n",
        "\n",
        "print('\\n Fill NA with Forward method\\n', df.fillna(method='ffill'))\n",
        "\n",
        "print('\\n Fill NA with Backward method\\n', df.fillna(method='bfill'))\n",
        "\n",
        "print('\\n Clean NA\\n', df.dropna())\n"
      ],
      "execution_count": 76,
      "outputs": [
        {
          "output_type": "stream",
          "text": [
            "Original data\n",
            "        col3      col2      col1\n",
            "A -0.490096  0.440210 -2.249675\n",
            "C  0.371913 -0.700015 -0.624352\n",
            "E -0.089871  1.179208  1.453107\n",
            "F -0.498116  1.613084 -1.802747\n",
            "\n",
            " Reindex data\n",
            "        col3      col2      col1\n",
            "A -0.490096  0.440210 -2.249675\n",
            "B       NaN       NaN       NaN\n",
            "C  0.371913 -0.700015 -0.624352\n",
            "D       NaN       NaN       NaN\n",
            "E -0.089871  1.179208  1.453107\n",
            "F -0.498116  1.613084 -1.802747\n",
            "\n",
            " Fill NA with scalar value (ex: 0)\n",
            "        col3      col2      col1\n",
            "A -0.490096  0.440210 -2.249675\n",
            "B  0.000000  0.000000  0.000000\n",
            "C  0.371913 -0.700015 -0.624352\n",
            "D  0.000000  0.000000  0.000000\n",
            "E -0.089871  1.179208  1.453107\n",
            "F -0.498116  1.613084 -1.802747\n",
            "\n",
            " Fill NA with Forward method\n",
            "        col3      col2      col1\n",
            "A -0.490096  0.440210 -2.249675\n",
            "B -0.490096  0.440210 -2.249675\n",
            "C  0.371913 -0.700015 -0.624352\n",
            "D  0.371913 -0.700015 -0.624352\n",
            "E -0.089871  1.179208  1.453107\n",
            "F -0.498116  1.613084 -1.802747\n",
            "\n",
            " Fill NA with Backward method\n",
            "        col3      col2      col1\n",
            "A -0.490096  0.440210 -2.249675\n",
            "B  0.371913 -0.700015 -0.624352\n",
            "C  0.371913 -0.700015 -0.624352\n",
            "D -0.089871  1.179208  1.453107\n",
            "E -0.089871  1.179208  1.453107\n",
            "F -0.498116  1.613084 -1.802747\n",
            "\n",
            " Clean NA\n",
            "        col3      col2      col1\n",
            "A -0.490096  0.440210 -2.249675\n",
            "C  0.371913 -0.700015 -0.624352\n",
            "E -0.089871  1.179208  1.453107\n",
            "F -0.498116  1.613084 -1.802747\n"
          ],
          "name": "stdout"
        }
      ]
    },
    {
      "metadata": {
        "id": "jcmzp6SHjZxs",
        "colab_type": "text"
      },
      "cell_type": "markdown",
      "source": [
        "# Group"
      ]
    },
    {
      "metadata": {
        "id": "6Vct08Ldq6y9",
        "colab_type": "text"
      },
      "cell_type": "markdown",
      "source": [
        "## groupby\n",
        "\n",
        "obj.groupby('key')\n",
        "\n",
        "obj.groupby(['key1', 'key2'])\n",
        "\n",
        "obj.groupby(key, axis=1)"
      ]
    },
    {
      "metadata": {
        "id": "FiLkiW5I0BBq",
        "colab_type": "code",
        "outputId": "67d33ef2-1ae3-4a29-f95a-de718e70c693",
        "colab": {
          "base_uri": "https://localhost:8080/",
          "height": 241
        }
      },
      "cell_type": "code",
      "source": [
        "data = {'Name': ['Marie', 'Sarah', 'Tom', 'Jame'],\n",
        "        'Gender': ['Girl', 'Girl', 'Boy', 'Boy'],\n",
        "        'Grade': [3, 5, 6, 7],\n",
        "        'Age': [8, 10, 11, 12]\n",
        "       }\n",
        "df = pd.DataFrame(data)\n",
        "print('Original data\\n', df)\n",
        "\n",
        "print('\\n Group by Gender\\n', df.groupby('Gender').groups)\n",
        "\n",
        "print('\\n Group by Gender & Age\\n', df.groupby(['Gender', 'Age']).groups)"
      ],
      "execution_count": 75,
      "outputs": [
        {
          "output_type": "stream",
          "text": [
            "Original data\n",
            "    Age Gender  Grade   Name\n",
            "0    8   Girl      3  Marie\n",
            "1   10   Girl      5  Sarah\n",
            "2   11    Boy      6    Tom\n",
            "3   12    Boy      7   Jame\n",
            "\n",
            " Group by Gender\n",
            " {'Boy': Int64Index([2, 3], dtype='int64'), 'Girl': Int64Index([0, 1], dtype='int64')}\n",
            "\n",
            " Group by Gender & Age\n",
            " {('Boy', 11): Int64Index([2], dtype='int64'), ('Boy', 12): Int64Index([3], dtype='int64'), ('Girl', 8): Int64Index([0], dtype='int64'), ('Girl', 10): Int64Index([1], dtype='int64')}\n"
          ],
          "name": "stdout"
        }
      ]
    },
    {
      "metadata": {
        "id": "rtXS6ox5q_YJ",
        "colab_type": "text"
      },
      "cell_type": "markdown",
      "source": [
        "## Access groups"
      ]
    },
    {
      "metadata": {
        "id": "NYFgQtS2q--u",
        "colab_type": "code",
        "outputId": "9b516d0b-c081-4aca-8125-94cb3df88750",
        "colab": {
          "base_uri": "https://localhost:8080/",
          "height": 408
        }
      },
      "cell_type": "code",
      "source": [
        "data = {'Name': ['Marie', 'Sarah', 'Tom', 'Jame'],\n",
        "        'Gender': ['Girl', 'Girl', 'Boy', 'Boy'],\n",
        "        'Grade': [3, 5, 6, 7],\n",
        "        'Age': [8, 10, 11, 12]\n",
        "       }\n",
        "df = pd.DataFrame(data)\n",
        "print('Original data\\n', df)\n",
        "\n",
        "group = df.groupby('Gender')\n",
        "\n",
        "print('\\n Iterate through group')\n",
        "for name_, data_ in group:\n",
        "  print('\\n ', name_)\n",
        "  print(data_)\n",
        "\n",
        "print('\\n Select a group\\n', group.get_group('Boy'))"
      ],
      "execution_count": 74,
      "outputs": [
        {
          "output_type": "stream",
          "text": [
            "Original data\n",
            "    Age Gender  Grade   Name\n",
            "0    8   Girl      3  Marie\n",
            "1   10   Girl      5  Sarah\n",
            "2   11    Boy      6    Tom\n",
            "3   12    Boy      7   Jame\n",
            "\n",
            " Iterate through group\n",
            "\n",
            "  Boy\n",
            "   Age Gender  Grade  Name\n",
            "2   11    Boy      6   Tom\n",
            "3   12    Boy      7  Jame\n",
            "\n",
            "  Girl\n",
            "   Age Gender  Grade   Name\n",
            "0    8   Girl      3  Marie\n",
            "1   10   Girl      5  Sarah\n",
            "\n",
            " Select a group\n",
            "    Age Gender  Grade  Name\n",
            "2   11    Boy      6   Tom\n",
            "3   12    Boy      7  Jame\n"
          ],
          "name": "stdout"
        }
      ]
    },
    {
      "metadata": {
        "id": "--wgcV9gs9y8",
        "colab_type": "text"
      },
      "cell_type": "markdown",
      "source": [
        "## Aggregations\n",
        "Common aggregated functions:\n",
        "\n",
        "median\n",
        "\n",
        "average\n",
        "\n",
        "mean\n",
        "\n",
        "std\n",
        "\n",
        "var\n",
        "\n",
        "..."
      ]
    },
    {
      "metadata": {
        "id": "DHPxruRTtMsa",
        "colab_type": "code",
        "outputId": "7a69a117-f647-4220-9f80-5a43c1853d63",
        "colab": {
          "base_uri": "https://localhost:8080/",
          "height": 340
        }
      },
      "cell_type": "code",
      "source": [
        "data = {'Name': ['Marie', 'Sarah', 'Tom', 'Jame'],\n",
        "        'Gender': ['Girl', 'Girl', 'Boy', 'Boy'],\n",
        "        'Grade': [3, 5, 6, 7],\n",
        "        'Age': [8, 10, 11, 12]\n",
        "       }\n",
        "df = pd.DataFrame(data)\n",
        "print('Original data\\n', df)\n",
        "\n",
        "group = df.groupby('Gender')\n",
        "\n",
        "print('\\n  Mean of the groups\\n', group.agg(np.mean))\n",
        "\n",
        "print('\\n  Sum and Standard deviation of the groups\\n', group.agg([np.sum, np.std]))\n"
      ],
      "execution_count": 73,
      "outputs": [
        {
          "output_type": "stream",
          "text": [
            "Original data\n",
            "    Age Gender  Grade   Name\n",
            "0    8   Girl      3  Marie\n",
            "1   10   Girl      5  Sarah\n",
            "2   11    Boy      6    Tom\n",
            "3   12    Boy      7   Jame\n",
            "\n",
            "  Mean of the groups\n",
            "          Age  Grade\n",
            "Gender             \n",
            "Boy     11.5    6.5\n",
            "Girl     9.0    4.0\n",
            "\n",
            "  Sum and Standard deviation of the groups\n",
            "        Age           Grade          \n",
            "       sum       std   sum       std\n",
            "Gender                              \n",
            "Boy     23  0.707107    13  0.707107\n",
            "Girl    18  1.414214     8  1.414214\n"
          ],
          "name": "stdout"
        }
      ]
    },
    {
      "metadata": {
        "id": "J34HOG4Iu7_-",
        "colab_type": "text"
      },
      "cell_type": "markdown",
      "source": [
        "## Transformation"
      ]
    },
    {
      "metadata": {
        "id": "UAvUe2hwvCvX",
        "colab_type": "code",
        "outputId": "82fce5b2-c1b7-47de-df58-cae632947e6d",
        "colab": {
          "base_uri": "https://localhost:8080/",
          "height": 323
        }
      },
      "cell_type": "code",
      "source": [
        "data = {'Name': ['Marie', 'Sarah', 'Tom', 'Jame'],\n",
        "        'Gender': ['Girl', 'Girl', 'Boy', 'Boy'],\n",
        "        'Grade': [3, 5, 6, 7],\n",
        "        'Age': [8, 10, 11, 12]\n",
        "       }\n",
        "df = pd.DataFrame(data)\n",
        "print('Original data\\n', df)\n",
        "\n",
        "group = df.groupby('Gender')\n",
        "\n",
        "grade = lambda x: (x - x.mean())\n",
        "\n",
        "print('\\n Mean of the groups\\n', group.agg(np.mean))\n",
        "\n",
        "print('\\n Transformed group', group.transform(grade))"
      ],
      "execution_count": 72,
      "outputs": [
        {
          "output_type": "stream",
          "text": [
            "Original data\n",
            "    Age Gender  Grade   Name\n",
            "0    8   Girl      3  Marie\n",
            "1   10   Girl      5  Sarah\n",
            "2   11    Boy      6    Tom\n",
            "3   12    Boy      7   Jame\n",
            "\n",
            " Mean of the groups\n",
            "          Age  Grade\n",
            "Gender             \n",
            "Boy     11.5    6.5\n",
            "Girl     9.0    4.0\n",
            "\n",
            " Transformed group    Age  Grade\n",
            "0 -1.0   -1.0\n",
            "1  1.0    1.0\n",
            "2 -0.5   -0.5\n",
            "3  0.5    0.5\n"
          ],
          "name": "stdout"
        }
      ]
    },
    {
      "metadata": {
        "id": "H2DOLsA9wIHR",
        "colab_type": "text"
      },
      "cell_type": "markdown",
      "source": [
        "## Filtration"
      ]
    },
    {
      "metadata": {
        "id": "OmGexLXywJvr",
        "colab_type": "code",
        "outputId": "18937437-be77-4979-c795-a4b08e7a4f86",
        "colab": {
          "base_uri": "https://localhost:8080/",
          "height": 323
        }
      },
      "cell_type": "code",
      "source": [
        "data = {'Name': ['Marie', 'Sarah', 'Tom', 'Jame', 'Jane'],\n",
        "        'Gender': ['Girl', 'Girl', 'Boy', 'Boy', 'Girl'],\n",
        "        'Grade': [3, 5, 6, 7, 6],\n",
        "        'Age': [8, 10, 11, 12, 11]\n",
        "       }\n",
        "df = pd.DataFrame(data)\n",
        "print('Original data\\n', df)\n",
        "\n",
        "group = df.groupby('Gender')\n",
        "\n",
        "age = lambda x: (len(x) > 2)\n",
        "\n",
        "print('\\n Mean of the groups\\n', group.agg(np.mean))\n",
        "\n",
        "print('\\n', group.filter(age))"
      ],
      "execution_count": 71,
      "outputs": [
        {
          "output_type": "stream",
          "text": [
            "Original data\n",
            "    Age Gender  Grade   Name\n",
            "0    8   Girl      3  Marie\n",
            "1   10   Girl      5  Sarah\n",
            "2   11    Boy      6    Tom\n",
            "3   12    Boy      7   Jame\n",
            "4   11   Girl      6   Jane\n",
            "\n",
            " Mean of the groups\n",
            "               Age     Grade\n",
            "Gender                     \n",
            "Boy     11.500000  6.500000\n",
            "Girl     9.666667  4.666667\n",
            "\n",
            "    Age Gender  Grade   Name\n",
            "0    8   Girl      3  Marie\n",
            "1   10   Girl      5  Sarah\n",
            "4   11   Girl      6   Jane\n"
          ],
          "name": "stdout"
        }
      ]
    },
    {
      "metadata": {
        "id": "XEuJUUQN8Gfo",
        "colab_type": "text"
      },
      "cell_type": "markdown",
      "source": [
        "# Merge\n",
        "pd.merge(left, right, how='inner', on=None, left_on=None, right_on=None,\n",
        "left_index=False, right_index=False, sort=True)"
      ]
    },
    {
      "metadata": {
        "id": "U4OYv_XQ91IC",
        "colab_type": "code",
        "outputId": "4ec3f3f6-ea3b-47f9-86cf-d0c42bb202ca",
        "colab": {
          "base_uri": "https://localhost:8080/",
          "height": 1105
        }
      },
      "cell_type": "code",
      "source": [
        "left = pd.DataFrame({'Name': ['A1', 'A2', 'A3', 'A4', 'A5'],\n",
        "                        'Gender': ['Girl', 'Girl', 'Boy', 'Boy', 'Girl'],\n",
        "                        'Grade': [3, 3, 3, 7, 7]\n",
        "                      })\n",
        "\n",
        "right = pd.DataFrame({'Name': ['B1', 'B2', 'B3', 'B4', 'B5'],\n",
        "                        'Gender': ['Boy', 'Boy', 'Girl', 'Girl', 'Girl'],\n",
        "                        'Grade': [5, 5, 6, 6, 4]\n",
        "                      })\n",
        "\n",
        "print('\\n Merge 2 data\\n', pd.merge(left, right, on='Gender'))\n",
        "\n",
        "print('\\n Merge 2 data, by key from right\\n', \n",
        "      pd.merge(left, right, on='Gender', how='right'))\n",
        "\n",
        "print('\\n Merge 2 data, by union of keys\\n', \n",
        "      pd.merge(left, right, on='Gender', how='outer'))\n",
        "\n",
        "print('\\n Merge 2 data, by intersection of keys\\n', \n",
        "      pd.merge(left, right, on='Gender', how='inner'))"
      ],
      "execution_count": 70,
      "outputs": [
        {
          "output_type": "stream",
          "text": [
            "\n",
            " Merge 2 data\n",
            "    Gender  Grade_x Name_x  Grade_y Name_y\n",
            "0    Girl        3     A1        6     B3\n",
            "1    Girl        3     A1        6     B4\n",
            "2    Girl        3     A1        4     B5\n",
            "3    Girl        3     A2        6     B3\n",
            "4    Girl        3     A2        6     B4\n",
            "5    Girl        3     A2        4     B5\n",
            "6    Girl        7     A5        6     B3\n",
            "7    Girl        7     A5        6     B4\n",
            "8    Girl        7     A5        4     B5\n",
            "9     Boy        3     A3        5     B1\n",
            "10    Boy        3     A3        5     B2\n",
            "11    Boy        7     A4        5     B1\n",
            "12    Boy        7     A4        5     B2\n",
            "\n",
            " Merge 2 data, by key from right\n",
            "    Gender  Grade_x Name_x  Grade_y Name_y\n",
            "0    Girl        3     A1        6     B3\n",
            "1    Girl        3     A2        6     B3\n",
            "2    Girl        7     A5        6     B3\n",
            "3    Girl        3     A1        6     B4\n",
            "4    Girl        3     A2        6     B4\n",
            "5    Girl        7     A5        6     B4\n",
            "6    Girl        3     A1        4     B5\n",
            "7    Girl        3     A2        4     B5\n",
            "8    Girl        7     A5        4     B5\n",
            "9     Boy        3     A3        5     B1\n",
            "10    Boy        7     A4        5     B1\n",
            "11    Boy        3     A3        5     B2\n",
            "12    Boy        7     A4        5     B2\n",
            "\n",
            " Merge 2 data, by union of keys\n",
            "    Gender  Grade_x Name_x  Grade_y Name_y\n",
            "0    Girl        3     A1        6     B3\n",
            "1    Girl        3     A1        6     B4\n",
            "2    Girl        3     A1        4     B5\n",
            "3    Girl        3     A2        6     B3\n",
            "4    Girl        3     A2        6     B4\n",
            "5    Girl        3     A2        4     B5\n",
            "6    Girl        7     A5        6     B3\n",
            "7    Girl        7     A5        6     B4\n",
            "8    Girl        7     A5        4     B5\n",
            "9     Boy        3     A3        5     B1\n",
            "10    Boy        3     A3        5     B2\n",
            "11    Boy        7     A4        5     B1\n",
            "12    Boy        7     A4        5     B2\n",
            "\n",
            " Merge 2 data, by intersection of keys\n",
            "    Gender  Grade_x Name_x  Grade_y Name_y\n",
            "0    Girl        3     A1        6     B3\n",
            "1    Girl        3     A1        6     B4\n",
            "2    Girl        3     A1        4     B5\n",
            "3    Girl        3     A2        6     B3\n",
            "4    Girl        3     A2        6     B4\n",
            "5    Girl        3     A2        4     B5\n",
            "6    Girl        7     A5        6     B3\n",
            "7    Girl        7     A5        6     B4\n",
            "8    Girl        7     A5        4     B5\n",
            "9     Boy        3     A3        5     B1\n",
            "10    Boy        3     A3        5     B2\n",
            "11    Boy        7     A4        5     B1\n",
            "12    Boy        7     A4        5     B2\n"
          ],
          "name": "stdout"
        }
      ]
    },
    {
      "metadata": {
        "id": "YGi8NXgTXHuF",
        "colab_type": "text"
      },
      "cell_type": "markdown",
      "source": [
        "# Concate\n",
        "pd.concat(objs,axis=0,join='outer',join_axes=None,\n",
        "ignore_index=False)"
      ]
    },
    {
      "metadata": {
        "id": "8FlYfwO1XNJf",
        "colab_type": "code",
        "colab": {
          "base_uri": "https://localhost:8080/",
          "height": 816
        },
        "outputId": "fdcc1bd5-94ef-407a-e3d9-55d1aa3b7574"
      },
      "cell_type": "code",
      "source": [
        "df1 = pd.DataFrame({'Name': ['A1', 'A2', 'A3'],\n",
        "                        'Gender': ['Girl', 'Girl', 'Boy'],\n",
        "                        'Grade': [3, 3, 3]\n",
        "                      }, index=[2, 3, 4])\n",
        "\n",
        "df2 = pd.DataFrame({'Name': ['B1', 'B2', 'B3'],\n",
        "                        'Gender': ['Boy', 'Girl', 'Girl'],\n",
        "                        'Grade': [5, 5, 6]\n",
        "                      })\n",
        "\n",
        "print('There are 2 ways of invoking concat')\n",
        "\n",
        "print('\\n First: Combine 2 data with instance method (append)\\n', df1.append([df1, df2]))\n",
        "\n",
        "print('\\n Second: Combine 2 data with class method (pd.concat)\\n', pd.concat([df1, df2]))\n",
        "\n",
        "print('\\n Combine 2 data, axis=1\\n', pd.concat([df1, df2], axis=1))\n",
        "\n",
        "print('\\n Combine 2 data, own indexing\\n', pd.concat([df1, df2], ignore_index=True))\n",
        "\n",
        "print('Combine 2 data\\n', pd.concat([df1, df2]))"
      ],
      "execution_count": 69,
      "outputs": [
        {
          "output_type": "stream",
          "text": [
            "There are 2 ways of invoking concat\n",
            "\n",
            " First: Combine 2 data with instance method (append)\n",
            "   Gender  Grade Name\n",
            "2   Girl      3   A1\n",
            "3   Girl      3   A2\n",
            "4    Boy      3   A3\n",
            "2   Girl      3   A1\n",
            "3   Girl      3   A2\n",
            "4    Boy      3   A3\n",
            "0    Boy      5   B1\n",
            "1   Girl      5   B2\n",
            "2   Girl      6   B3\n",
            "\n",
            " Second: Combine 2 data with class method (pd.concat)\n",
            "   Gender  Grade Name\n",
            "2   Girl      3   A1\n",
            "3   Girl      3   A2\n",
            "4    Boy      3   A3\n",
            "0    Boy      5   B1\n",
            "1   Girl      5   B2\n",
            "2   Girl      6   B3\n",
            "\n",
            " Combine 2 data, axis=1\n",
            "   Gender  Grade Name Gender  Grade Name\n",
            "0    NaN    NaN  NaN    Boy    5.0   B1\n",
            "1    NaN    NaN  NaN   Girl    5.0   B2\n",
            "2   Girl    3.0   A1   Girl    6.0   B3\n",
            "3   Girl    3.0   A2    NaN    NaN  NaN\n",
            "4    Boy    3.0   A3    NaN    NaN  NaN\n",
            "\n",
            " Combine 2 data, own indexing\n",
            "   Gender  Grade Name\n",
            "0   Girl      3   A1\n",
            "1   Girl      3   A2\n",
            "2    Boy      3   A3\n",
            "3    Boy      5   B1\n",
            "4   Girl      5   B2\n",
            "5   Girl      6   B3\n",
            "Combine 2 data\n",
            "   Gender  Grade Name\n",
            "2   Girl      3   A1\n",
            "3   Girl      3   A2\n",
            "4    Boy      3   A3\n",
            "0    Boy      5   B1\n",
            "1   Girl      5   B2\n",
            "2   Girl      6   B3\n"
          ],
          "name": "stdout"
        }
      ]
    },
    {
      "metadata": {
        "id": "epNLExU7lCC6",
        "colab_type": "text"
      },
      "cell_type": "markdown",
      "source": [
        "# Visualization"
      ]
    },
    {
      "metadata": {
        "id": "YuuXhndxk9j-",
        "colab_type": "code",
        "colab": {
          "base_uri": "https://localhost:8080/",
          "height": 3132
        },
        "outputId": "cb222cd5-9a28-4af6-b7e6-9840651a0168"
      },
      "cell_type": "code",
      "source": [
        "df = pd.DataFrame(np.random.rand(20,4),columns=['A','B','C', 'D'])\n",
        "\n",
        "df.plot()\n",
        "\n",
        "df.plot.bar(title='Bar plot')\n",
        "\n",
        "df.plot.bar(title='Stacked bar plot', stacked=True)\n",
        "\n",
        "df.plot.barh(title='Horizontal bar plot')\n",
        "\n",
        "df.plot.hist(title='Histogram')\n",
        "\n",
        "df.plot.box(title='Box plot')\n",
        "\n",
        "df.plot.area(title='Area plot')\n",
        "\n",
        "df.plot.scatter(x='A', y='B', title='Scatter plot')\n",
        "\n",
        "df.plot.pie(y='A', title='Pie chart') # set y or input subplots=True\n"
      ],
      "execution_count": 68,
      "outputs": [
        {
          "output_type": "execute_result",
          "data": {
            "text/plain": [
              "<matplotlib.axes._subplots.AxesSubplot at 0x7fb76f801860>"
            ]
          },
          "metadata": {
            "tags": []
          },
          "execution_count": 68
        },
        {
          "output_type": "display_data",
          "data": {
            "image/png": "[encoded data removed]",
            "text/plain": [
              "<matplotlib.figure.Figure at 0x7fb77085e048>"
            ]
          },
          "metadata": {
            "tags": []
          }
        },
        {
          "output_type": "display_data",
          "data": {
            "image/png": "[encoded data removed]",
            "text/plain": [
              "<matplotlib.figure.Figure at 0x7fb7705bf780>"
            ]
          },
          "metadata": {
            "tags": []
          }
        },
        {
          "output_type": "display_data",
          "data": {
            "image/png": "[encoded data removed]",
            "text/plain": [
              "<matplotlib.figure.Figure at 0x7fb770c6b470>"
            ]
          },
          "metadata": {
            "tags": []
          }
        },
        {
          "output_type": "display_data",
          "data": {
            "image/png": "[encoded data removed]",
            "text/plain": [
              "<matplotlib.figure.Figure at 0x7fb771052be0>"
            ]
          },
          "metadata": {
            "tags": []
          }
        },
        {
          "output_type": "display_data",
          "data": {
            "image/png": "[encoded data removed]",
            "text/plain": [
              "<matplotlib.figure.Figure at 0x7fb7711fe518>"
            ]
          },
          "metadata": {
            "tags": []
          }
        },
        {
          "output_type": "display_data",
          "data": {
            "image/png": "[encoded data removed]",
            "text/plain": [
              "<matplotlib.figure.Figure at 0x7fb7706965c0>"
            ]
          },
          "metadata": {
            "tags": []
          }
        },
        {
          "output_type": "display_data",
          "data": {
            "image/png": "[encoded data removed]",
            "text/plain": [
              "<matplotlib.figure.Figure at 0x7fb76f93f908>"
            ]
          },
          "metadata": {
            "tags": []
          }
        },
        {
          "output_type": "display_data",
          "data": {
            "image/png": "[encoded data removed]",
            "text/plain": [
              "<matplotlib.figure.Figure at 0x7fb76f81c4a8>"
            ]
          },
          "metadata": {
            "tags": []
          }
        },
        {
          "output_type": "display_data",
          "data": {
            "image/png": "[encoded data removed]",
            "text/plain": [
              "<matplotlib.figure.Figure at 0x7fb76f7eb3c8>"
            ]
          },
          "metadata": {
            "tags": []
          }
        }
      ]
    },
    {
      "metadata": {
        "id": "kKs9Lo2954f3",
        "colab_type": "text"
      },
      "cell_type": "markdown",
      "source": [
        "# IO"
      ]
    },
    {
      "metadata": {
        "id": "9fc_bKXP6XJR",
        "colab_type": "text"
      },
      "cell_type": "markdown",
      "source": [
        "## read_csv"
      ]
    },
    {
      "metadata": {
        "id": "0r_L2VBk6aMp",
        "colab_type": "code",
        "colab": {
          "base_uri": "https://localhost:8080/",
          "height": 697
        },
        "outputId": "3a3cefca-c1f4-4454-a5ba-ba3abe055b41"
      },
      "cell_type": "code",
      "source": [
        "filepath = 'https://www.openml.org/data/get_csv/53983/PopularKids.csv'\n",
        "df1 = pd.read_csv(filepath)\n",
        "print(df1.head())\n",
        "\n",
        "# Convert data type\n",
        "df2 = pd.read_csv(filepath, dtype={'Money': np.float64})\n",
        "print('\\n Money as float\\n', df2.head()['Money'])\n",
        "\n",
        "# Read from specific columns\n",
        "df3 = pd.read_csv(filepath, usecols=['Gender', 'Grade'])\n",
        "print('\\n Read Gender & Grade\\n', df3.head())\n",
        "\n",
        "# Read N rows\n",
        "df4 = pd.read_csv(filepath, nrows=3)\n",
        "print('\\n Read Gender & Grade\\n', df4.head())\n",
        "\n"
      ],
      "execution_count": 67,
      "outputs": [
        {
          "output_type": "stream",
          "text": [
            "   Gender  Grade  Age     Race Urban/Rural School      Goals  Grades  Sports  \\\n",
            "0   'boy'      5   11  'White'     'Rural'  'Elm'   'Sports'       1       2   \n",
            "1   'boy'      5   10  'White'     'Rural'  'Elm'  'Popular'       2       1   \n",
            "2  'girl'      5   11  'White'     'Rural'  'Elm'  'Popular'       4       3   \n",
            "3  'girl'      5   11  'White'     'Rural'  'Elm'  'Popular'       2       3   \n",
            "4  'girl'      5   10  'White'     'Rural'  'Elm'  'Popular'       4       2   \n",
            "\n",
            "   Looks  Money  \n",
            "0      4      3  \n",
            "1      4      3  \n",
            "2      1      2  \n",
            "3      4      1  \n",
            "4      1      3  \n",
            "\n",
            " Money as float\n",
            " 0    3.0\n",
            "1    3.0\n",
            "2    2.0\n",
            "3    1.0\n",
            "4    3.0\n",
            "Name: Money, dtype: float64\n",
            "\n",
            " Read Gender & Grade\n",
            "    Gender  Grade\n",
            "0   'boy'      5\n",
            "1   'boy'      5\n",
            "2  'girl'      5\n",
            "3  'girl'      5\n",
            "4  'girl'      5\n",
            "\n",
            " Read Gender & Grade\n",
            "    Gender  Grade  Age     Race Urban/Rural School      Goals  Grades  Sports  \\\n",
            "0   'boy'      5   11  'White'     'Rural'  'Elm'   'Sports'       1       2   \n",
            "1   'boy'      5   10  'White'     'Rural'  'Elm'  'Popular'       2       1   \n",
            "2  'girl'      5   11  'White'     'Rural'  'Elm'  'Popular'       4       3   \n",
            "\n",
            "   Looks  Money  \n",
            "0      4      3  \n",
            "1      4      3  \n",
            "2      1      2  \n"
          ],
          "name": "stdout"
        }
      ]
    }
  ]
}