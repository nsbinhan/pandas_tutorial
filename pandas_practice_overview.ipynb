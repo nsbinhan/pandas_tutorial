{
  "nbformat": 4,
  "nbformat_minor": 0,
  "metadata": {
    "colab": {
      "name": "pandas_practice_overview.ipynb",
      "version": "0.3.2",
      "provenance": [],
      "collapsed_sections": []
    },
    "kernelspec": {
      "name": "python3",
      "display_name": "Python 3"
    }
  },
  "cells": [
    {
      "metadata": {
        "id": "2NQUzRNt49ol",
        "colab_type": "text"
      },
      "cell_type": "markdown",
      "source": [
        "# Import libraries"
      ]
    },
    {
      "metadata": {
        "id": "WCg-0ZxJ406I",
        "colab_type": "code",
        "colab": {}
      },
      "cell_type": "code",
      "source": [
        "import numpy as np\n",
        "import pandas as pd"
      ],
      "execution_count": 0,
      "outputs": []
    },
    {
      "metadata": {
        "id": "xpXy_mzY6hQk",
        "colab_type": "text"
      },
      "cell_type": "markdown",
      "source": [
        "# Data structures \n",
        "\n",
        "## Overview\n",
        "**Series**:\t1D labeled homogeneous array, size immutable.\n",
        "\n",
        "**Data Frame**: 2D labeled, size-mutable tabular structure, probably heterogeneously typed columns.\n",
        "\n",
        "**Panel**: 3D labeled, size-mutable array.\n",
        "\n",
        "## pandas vs numpy\n",
        "https://www.youtube.com/watch?v=CLoNO-XxNXU\n",
        "\n",
      ]
    },
    {
      "metadata": {
        "id": "AM-WVASf5Hq7",
        "colab_type": "text"
      },
      "cell_type": "markdown",
      "source": [
        "# Series"
      ]
    },
    {
      "metadata": {
        "id": "PEOuw1XI5SHb",
        "colab_type": "text"
      },
      "cell_type": "markdown",
      "source": [
        "## Create a Series\n",
        "pandas.Series( data, index, dtype, copy)\n"
      ]
    },
    {
      "metadata": {
        "id": "M0x0X8gcRALI",
        "colab_type": "text"
      },
      "cell_type": "markdown",
      "source": [
        "### By passing a numpy array"
      ]
    },
    {
      "metadata": {
        "id": "k0PEtWvm5WUK",
        "colab_type": "code",
        "outputId": "f37fc719-1071-45fa-d035-36b4b0398149",
        "colab": {
          "base_uri": "https://localhost:8080/",
          "height": 85
        }
      },
      "cell_type": "code",
      "source": [
        "data = np.arange(3)*3\n",
        "index = np.arange(3)\n",
        "s = pd.Series(data, index, float)\n",
        "print(s)"
      ],
      "execution_count": 0,
      "outputs": [
        {
          "output_type": "stream",
          "text": [
            "0    0.0\n",
            "1    3.0\n",
            "2    6.0\n",
            "dtype: float64\n"
          ],
          "name": "stdout"
        }
      ]
    },
    {
      "metadata": {
        "id": "zcYFreRyOj1W",
        "colab_type": "code",
        "outputId": "8c07bea8-6120-4df3-d439-5e6a8b18b91a",
        "colab": {
          "base_uri": "https://localhost:8080/",
          "height": 85
        }
      },
      "cell_type": "code",
      "source": [
        "data = [np.arange(9)*2.0]\n",
        "index = np.arange(3)\n",
        "s = pd.Series(data, index)\n",
        "print(s)"
      ],
      "execution_count": 2,
      "outputs": [
        {
          "output_type": "stream",
          "text": [
            "0    [0.0, 2.0, 4.0, 6.0, 8.0, 10.0, 12.0, 14.0, 16.0]\n",
            "1    [0.0, 2.0, 4.0, 6.0, 8.0, 10.0, 12.0, 14.0, 16.0]\n",
            "2    [0.0, 2.0, 4.0, 6.0, 8.0, 10.0, 12.0, 14.0, 16.0]\n",
            "dtype: object\n"
          ],
          "name": "stdout"
        }
      ]
    },
    {
      "metadata": {
        "id": "gW4-G18yRBvG",
        "colab_type": "text"
      },
      "cell_type": "markdown",
      "source": [
        "### By passing a dictionary"
      ]
    },
    {
      "metadata": {
        "id": "L3kPfWX6RHwp",
        "colab_type": "code",
        "outputId": "9cc669a2-e0db-4ee0-90af-2c44a3e28d8b",
        "colab": {
          "base_uri": "https://localhost:8080/",
          "height": 187
        }
      },
      "cell_type": "code",
      "source": [
        "dict = {'A': 1,\n",
        "        'B': pd.Series(np.arange(3).astype(float)),\n",
        "        'C': np.array([3] * 3,dtype='int32'),\n",
        "        'D': pd.Categorical(['maths', 'physics', 'chemistry']),\n",
        "        'E': 'loop'\n",
        "       }\n",
        "s = pd.Series(dict)\n",
        "print(s)"
      ],
      "execution_count": 3,
      "outputs": [
        {
          "output_type": "stream",
          "text": [
            "A                                                    1\n",
            "B            0    0.0\n",
            "1    1.0\n",
            "2    2.0\n",
            "dtype: float64\n",
            "C                                            [3, 3, 3]\n",
            "D    [maths, physics, chemistry]\n",
            "Categories (3, obj...\n",
            "E                                                 loop\n",
            "dtype: object\n"
          ],
          "name": "stdout"
        }
      ]
    },
    {
      "metadata": {
        "id": "tFPXCoNXSAmd",
        "colab_type": "text"
      },
      "cell_type": "markdown",
      "source": [
        "### By passing a scalar value"
      ]
    },
    {
      "metadata": {
        "id": "gtHFt704SDHY",
        "colab_type": "code",
        "outputId": "0337b44f-842d-4f70-9d0f-2d525f72b767",
        "colab": {
          "base_uri": "https://localhost:8080/",
          "height": 85
        }
      },
      "cell_type": "code",
      "source": [
        "s = pd.Series(100, index=[0, 1, 2])\n",
        "print(s)"
      ],
      "execution_count": 4,
      "outputs": [
        {
          "output_type": "stream",
          "text": [
            "0    100\n",
            "1    100\n",
            "2    100\n",
            "dtype: int64\n"
          ],
          "name": "stdout"
        }
      ]
    },
    {
      "metadata": {
        "id": "0nmps0_QSy1c",
        "colab_type": "text"
      },
      "cell_type": "markdown",
      "source": [
        "## Access data"
      ]
    },
    {
      "metadata": {
        "id": "STIU8wO5TICA",
        "colab_type": "text"
      },
      "cell_type": "markdown",
      "source": [
        "### With position"
      ]
    },
    {
      "metadata": {
        "id": "fCANloPmTO0-",
        "colab_type": "code",
        "outputId": "350de468-4b89-4b0f-de0f-ebdc5e954276",
        "colab": {
          "base_uri": "https://localhost:8080/",
          "height": 527
        }
      },
      "cell_type": "code",
      "source": [
        "s = pd.Series(np.arange(9)*2, np.arange(9))\n",
        "print(s)\n",
        "print('\\nat 1:\\n', s[1])\n",
        "print('\\nfirst 3:\\n', s[:3])\n",
        "print('\\nlast 3:\\n', s[-3:])\n",
        "print('\\nfrom 3 to 4:\\n', s[3:5])"
      ],
      "execution_count": 5,
      "outputs": [
        {
          "output_type": "stream",
          "text": [
            "0     0\n",
            "1     2\n",
            "2     4\n",
            "3     6\n",
            "4     8\n",
            "5    10\n",
            "6    12\n",
            "7    14\n",
            "8    16\n",
            "dtype: int64\n",
            "\n",
            "at 1:\n",
            " 2\n",
            "\n",
            "first 3:\n",
            " 0    0\n",
            "1    2\n",
            "2    4\n",
            "dtype: int64\n",
            "\n",
            "last 3:\n",
            " 6    12\n",
            "7    14\n",
            "8    16\n",
            "dtype: int64\n",
            "\n",
            "from 3 to 4:\n",
            " 3    6\n",
            "4    8\n",
            "dtype: int64\n"
          ],
          "name": "stdout"
        }
      ]
    },
    {
      "metadata": {
        "id": "O3TB4AmNUdAn",
        "colab_type": "text"
      },
      "cell_type": "markdown",
      "source": [
        "###Using label"
      ]
    },
    {
      "metadata": {
        "id": "TvI59s0PUhbV",
        "colab_type": "code",
        "outputId": "3f8ecf10-105a-4469-bf4b-914ece653ef2",
        "colab": {
          "base_uri": "https://localhost:8080/",
          "height": 272
        }
      },
      "cell_type": "code",
      "source": [
        "s = pd.Series(np.arange(5), ['a', 'b', 'c', 'd', 'e'])\n",
        "print(s)\n",
        "print('\\nindex c: \\n', s['c'])\n",
        "print('\\nindex a, b, c: \\n', s[['a', 'b', 'c']])"
      ],
      "execution_count": 6,
      "outputs": [
        {
          "output_type": "stream",
          "text": [
            "a    0\n",
            "b    1\n",
            "c    2\n",
            "d    3\n",
            "e    4\n",
            "dtype: int64\n",
            "\n",
            "index c: \n",
            " 2\n",
            "\n",
            "index a, b, c: \n",
            " a    0\n",
            "b    1\n",
            "c    2\n",
            "dtype: int64\n"
          ],
          "name": "stdout"
        }
      ]
    },
    {
      "metadata": {
        "id": "QVApLteH5z6T",
        "colab_type": "text"
      },
      "cell_type": "markdown",
      "source": [
        "# DataFrame\n"
      ]
    },
    {
      "metadata": {
        "id": "eoqrmQ--VzZh",
        "colab_type": "text"
      },
      "cell_type": "markdown",
      "source": [
        "## Create a DataFrame\n",
        "pandas.DataFrame( data, index, columns, dtype, copy)"
      ]
    },
    {
      "metadata": {
        "id": "wSEpd6Wh-XhU",
        "colab_type": "text"
      },
      "cell_type": "markdown",
      "source": [
        "### By passing numpy arrays"
      ]
    },
    {
      "metadata": {
        "id": "vVEKoO_MWrbf",
        "colab_type": "code",
        "outputId": "c1616a5c-1fb9-41ba-d177-e75737b58e8c",
        "colab": {
          "base_uri": "https://localhost:8080/",
          "height": 85
        }
      },
      "cell_type": "code",
      "source": [
        "data = np.arange(3)*2\n",
        "index = np.arange(3)\n",
        "columns = ['A']\n",
        "\n",
        "df = pd.DataFrame(data, index, columns)\n",
        "print(df)"
      ],
      "execution_count": 7,
      "outputs": [
        {
          "output_type": "stream",
          "text": [
            "   A\n",
            "0  0\n",
            "1  2\n",
            "2  4\n"
          ],
          "name": "stdout"
        }
      ]
    },
    {
      "metadata": {
        "id": "MLBRNNAc-HpS",
        "colab_type": "code",
        "outputId": "45b55100-ba3c-40a4-d336-6c81ec5ac325",
        "colab": {
          "base_uri": "https://localhost:8080/",
          "height": 85
        }
      },
      "cell_type": "code",
      "source": [
        "data = np.arange(12).reshape(3,4)\n",
        "index = np.arange(3)\n",
        "columns = ['A', 'B', 'C', 'D']\n",
        "\n",
        "df = pd.DataFrame(data, index, columns)\n",
        "print(df)\n"
      ],
      "execution_count": 8,
      "outputs": [
        {
          "output_type": "stream",
          "text": [
            "   A  B   C   D\n",
            "0  0  1   2   3\n",
            "1  4  5   6   7\n",
            "2  8  9  10  11\n"
          ],
          "name": "stdout"
        }
      ]
    },
    {
      "metadata": {
        "id": "g1Ul3ps4-2ab",
        "colab_type": "text"
      },
      "cell_type": "markdown",
      "source": [
        "### By passing a dictionary"
      ]
    },
    {
      "metadata": {
        "id": "-dwyp0fj-9D_",
        "colab_type": "code",
        "outputId": "82de27f5-dfd1-45fb-af5d-43e4e9b71bb7",
        "colab": {
          "base_uri": "https://localhost:8080/",
          "height": 85
        }
      },
      "cell_type": "code",
      "source": [
        "dict = {'A': 1,\n",
        "        'B': pd.Series(np.arange(3).astype(float)),\n",
        "        'C': np.array([3] * 3,dtype='int32'),\n",
        "        'D': pd.Categorical(['maths', 'physics', 'chemistry']),\n",
        "        'E': ['go', 'went', 'gone']\n",
        "       }\n",
        "df = pd.DataFrame(dict)\n",
        "print(df)"
      ],
      "execution_count": 9,
      "outputs": [
        {
          "output_type": "stream",
          "text": [
            "   A    B  C          D     E\n",
            "0  1  0.0  3      maths    go\n",
            "1  1  1.0  3    physics  went\n",
            "2  1  2.0  3  chemistry  gone\n"
          ],
          "name": "stdout"
        }
      ]
    },
    {
      "metadata": {
        "id": "_FAA1AoWWVqm",
        "colab_type": "text"
      },
      "cell_type": "markdown",
      "source": [
        "### By passing lists"
      ]
    },
    {
      "metadata": {
        "id": "HhFYsWyjaxxC",
        "colab_type": "code",
        "outputId": "e6469dbf-2823-4d79-e146-0a4b35352e91",
        "colab": {
          "base_uri": "https://localhost:8080/",
          "height": 119
        }
      },
      "cell_type": "code",
      "source": [
        "data = [1, 2, 3, 4, 5]\n",
        "df = pd.DataFrame(data)\n",
        "print(df)"
      ],
      "execution_count": 10,
      "outputs": [
        {
          "output_type": "stream",
          "text": [
            "   0\n",
            "0  1\n",
            "1  2\n",
            "2  3\n",
            "3  4\n",
            "4  5\n"
          ],
          "name": "stdout"
        }
      ]
    },
    {
      "metadata": {
        "id": "VB1kZcaJbQt4",
        "colab_type": "code",
        "outputId": "1d35bfbc-5217-4469-b8a0-cdbfe1440756",
        "colab": {
          "base_uri": "https://localhost:8080/",
          "height": 85
        }
      },
      "cell_type": "code",
      "source": [
        "data = [['Maths', 4.5], ['Physics', 4.0], ['Chemistry', 4.3]]\n",
        "df = pd.DataFrame(data, columns=['Subject', 'Mark'])\n",
        "print(df)"
      ],
      "execution_count": 11,
      "outputs": [
        {
          "output_type": "stream",
          "text": [
            "     Subject  Mark\n",
            "0      Maths   4.5\n",
            "1    Physics   4.0\n",
            "2  Chemistry   4.3\n"
          ],
          "name": "stdout"
        }
      ]
    },
    {
      "metadata": {
        "id": "PPWl-_Nke3EI",
        "colab_type": "text"
      },
      "cell_type": "markdown",
      "source": [
        "## Select columns"
      ]
    },
    {
      "metadata": {
        "id": "gm1AYjoge6ej",
        "colab_type": "code",
        "outputId": "1aa67deb-599a-4c49-9263-ed165d58c6fc",
        "colab": {
          "base_uri": "https://localhost:8080/",
          "height": 289
        }
      },
      "cell_type": "code",
      "source": [
        "dict = {'A': 1,\n",
        "        'B': pd.Series(np.arange(3).astype(float)),\n",
        "        'C': np.array([3] * 3,dtype='int32'),\n",
        "        'D': pd.Categorical(['maths', 'physics', 'chemistry']),\n",
        "        'E': ['go', 'went', 'gone']\n",
        "       }\n",
        "df = pd.DataFrame(dict)\n",
        "print(df)\n",
        "print('\\nat B:\\n', df['B'])\n",
        "print('\\nat D & E:\\n', df[['D', 'E']])"
      ],
      "execution_count": 12,
      "outputs": [
        {
          "output_type": "stream",
          "text": [
            "   A    B  C          D     E\n",
            "0  1  0.0  3      maths    go\n",
            "1  1  1.0  3    physics  went\n",
            "2  1  2.0  3  chemistry  gone\n",
            "\n",
            "at B:\n",
            " 0    0.0\n",
            "1    1.0\n",
            "2    2.0\n",
            "Name: B, dtype: float64\n",
            "\n",
            "at D & E:\n",
            "            D     E\n",
            "0      maths    go\n",
            "1    physics  went\n",
            "2  chemistry  gone\n"
          ],
          "name": "stdout"
        }
      ]
    },
    {
      "metadata": {
        "id": "wbP-X6O7ftvV",
        "colab_type": "text"
      },
      "cell_type": "markdown",
      "source": [
        "## Add a column"
      ]
    },
    {
      "metadata": {
        "id": "b-LlC7uKgB9z",
        "colab_type": "code",
        "outputId": "67700f42-6b22-4a22-ba02-c5d1ab87518f",
        "colab": {
          "base_uri": "https://localhost:8080/",
          "height": 187
        }
      },
      "cell_type": "code",
      "source": [
        "dict = {'A': 1,\n",
        "        'B': pd.Series(np.arange(3).astype(float)),\n",
        "        'C': np.array([3] * 3,dtype='int32'),\n",
        "        'D': pd.Categorical(['maths', 'physics', 'chemistry']),\n",
        "        'E': ['go', 'went', 'gone']\n",
        "       }\n",
        "df = pd.DataFrame(dict)\n",
        "print(df)\n",
        "\n",
        "df['F'] = [5, 7, 9]\n",
        "print('\\nNew: \\n', df)"
      ],
      "execution_count": 13,
      "outputs": [
        {
          "output_type": "stream",
          "text": [
            "   A    B  C          D     E\n",
            "0  1  0.0  3      maths    go\n",
            "1  1  1.0  3    physics  went\n",
            "2  1  2.0  3  chemistry  gone\n",
            "\n",
            "New: \n",
            "    A    B  C          D     E  F\n",
            "0  1  0.0  3      maths    go  5\n",
            "1  1  1.0  3    physics  went  7\n",
            "2  1  2.0  3  chemistry  gone  9\n"
          ],
          "name": "stdout"
        }
      ]
    },
    {
      "metadata": {
        "id": "Xvd_NIcngh8t",
        "colab_type": "text"
      },
      "cell_type": "markdown",
      "source": [
        "## Delete column"
      ]
    },
    {
      "metadata": {
        "id": "uT6gTKyshPj9",
        "colab_type": "code",
        "outputId": "50f045f6-2f0b-4602-eed2-f43fd899699e",
        "colab": {
          "base_uri": "https://localhost:8080/",
          "height": 289
        }
      },
      "cell_type": "code",
      "source": [
        "dict = {'A': 1,\n",
        "        'B': pd.Series(np.arange(3).astype(float)),\n",
        "        'C': np.array([3] * 3,dtype='int32'),\n",
        "        'D': pd.Categorical(['maths', 'physics', 'chemistry']),\n",
        "        'E': ['go', 'went', 'gone']\n",
        "       }\n",
        "df = pd.DataFrame(dict)\n",
        "print(df)\n",
        "\n",
        "del df['C']\n",
        "print('\\ndelete C\\n', df)\n",
        "\n",
        "df.pop('D')\n",
        "print('\\npop D\\n', df)"
      ],
      "execution_count": 14,
      "outputs": [
        {
          "output_type": "stream",
          "text": [
            "   A    B  C          D     E\n",
            "0  1  0.0  3      maths    go\n",
            "1  1  1.0  3    physics  went\n",
            "2  1  2.0  3  chemistry  gone\n",
            "\n",
            "delete C\n",
            "    A    B          D     E\n",
            "0  1  0.0      maths    go\n",
            "1  1  1.0    physics  went\n",
            "2  1  2.0  chemistry  gone\n",
            "\n",
            "pop D\n",
            "    A    B     E\n",
            "0  1  0.0    go\n",
            "1  1  1.0  went\n",
            "2  1  2.0  gone\n"
          ],
          "name": "stdout"
        }
      ]
    },
    {
      "metadata": {
        "id": "YVd07EdJiT-y",
        "colab_type": "text"
      },
      "cell_type": "markdown",
      "source": [
        "## Select rows"
      ]
    },
    {
      "metadata": {
        "id": "XnCct5WNidCM",
        "colab_type": "code",
        "outputId": "2d12a5f5-7f99-42f2-b226-776c629a7533",
        "colab": {
          "base_uri": "https://localhost:8080/",
          "height": 442
        }
      },
      "cell_type": "code",
      "source": [
        "dict = {'A': 1,\n",
        "        'B': pd.Series(np.arange(3).astype(float)),\n",
        "        'C': np.array([3] * 3,dtype='int32'),\n",
        "        'D': pd.Categorical(['maths', 'physics', 'chemistry']),\n",
        "        'E': ['go', 'went', 'gone']\n",
        "       }\n",
        "df = pd.DataFrame(dict, index=['a', 'b', 'c'])\n",
        "print(df)\n",
        "print('\\nat b\\n', df.loc['b'])\n",
        "print('\\nat 2\\n', df.iloc[2])\n",
        "print('\\nat 0 & 1\\n', df[0:2])"
      ],
      "execution_count": 15,
      "outputs": [
        {
          "output_type": "stream",
          "text": [
            "   A   B  C          D     E\n",
            "a  1 NaN  3      maths    go\n",
            "b  1 NaN  3    physics  went\n",
            "c  1 NaN  3  chemistry  gone\n",
            "\n",
            "at b\n",
            " A          1\n",
            "B        NaN\n",
            "C          3\n",
            "D    physics\n",
            "E       went\n",
            "Name: b, dtype: object\n",
            "\n",
            "at 2\n",
            " A            1\n",
            "B          NaN\n",
            "C            3\n",
            "D    chemistry\n",
            "E         gone\n",
            "Name: c, dtype: object\n",
            "\n",
            "at 0 & 1\n",
            "    A   B  C        D     E\n",
            "a  1 NaN  3    maths    go\n",
            "b  1 NaN  3  physics  went\n"
          ],
          "name": "stdout"
        }
      ]
    },
    {
      "metadata": {
        "id": "osYVQ3S-kZbs",
        "colab_type": "text"
      },
      "cell_type": "markdown",
      "source": [
        "## Add rows"
      ]
    },
    {
      "metadata": {
        "id": "OLKH3TXjkc4G",
        "colab_type": "code",
        "outputId": "28e5848d-020a-455f-8a72-e057fd497e30",
        "colab": {
          "base_uri": "https://localhost:8080/",
          "height": 102
        }
      },
      "cell_type": "code",
      "source": [
        "dict = {'A': 1,\n",
        "        'B': pd.Series(np.arange(3).astype(float)),\n",
        "        'C': np.array([3] * 3,dtype='int32'),\n",
        "        'D': pd.Categorical(['maths', 'physics', 'chemistry']),\n",
        "        'E': ['go', 'went', 'gone']\n",
        "       }\n",
        "df = pd.DataFrame(dict, index=['a', 'b', 'c'])\n",
        "\n",
        "dfx = pd.DataFrame(np.random.rand(5).reshape(1,5), columns=['A', 'B', 'C', 'D', 'E'])\n",
        "df = df.append(dfx)\n",
        "print(df)"
      ],
      "execution_count": 16,
      "outputs": [
        {
          "output_type": "stream",
          "text": [
            "          A       B         C          D         E\n",
            "a  1.000000     NaN  3.000000      maths        go\n",
            "b  1.000000     NaN  3.000000    physics      went\n",
            "c  1.000000     NaN  3.000000  chemistry      gone\n",
            "0  0.725521  0.1402  0.865263   0.564956  0.697258\n"
          ],
          "name": "stdout"
        }
      ]
    },
    {
      "metadata": {
        "id": "6VVp-rExnMv9",
        "colab_type": "text"
      },
      "cell_type": "markdown",
      "source": [
        "## Delete rows"
      ]
    },
    {
      "metadata": {
        "id": "Jv4i90pHnO9y",
        "colab_type": "code",
        "outputId": "f2eb6e5f-1e0f-4f10-efec-b4b5eb6ffe96",
        "colab": {
          "base_uri": "https://localhost:8080/",
          "height": 153
        }
      },
      "cell_type": "code",
      "source": [
        "dict = {'A': 1,\n",
        "        'B': pd.Series(np.arange(3).astype(float)),\n",
        "        'C': np.array([3] * 3,dtype='int32'),\n",
        "        'D': pd.Categorical(['maths', 'physics', 'chemistry']),\n",
        "        'E': ['go', 'went', 'gone']\n",
        "       }\n",
        "df = pd.DataFrame(dict, index=['a', 'b', 'c'])\n",
        "print(df)\n",
        "df = df.drop(['a', 'b'])\n",
        "print('\\nnew\\n', df)"
      ],
      "execution_count": 17,
      "outputs": [
        {
          "output_type": "stream",
          "text": [
            "   A   B  C          D     E\n",
            "a  1 NaN  3      maths    go\n",
            "b  1 NaN  3    physics  went\n",
            "c  1 NaN  3  chemistry  gone\n",
            "\n",
            "new\n",
            "    A   B  C          D     E\n",
            "c  1 NaN  3  chemistry  gone\n"
          ],
          "name": "stdout"
        }
      ]
    },
    {
      "metadata": {
        "id": "u8H27r-3Mr-0",
        "colab_type": "text"
      },
      "cell_type": "markdown",
      "source": [
        "# Panel"
      ]
    },
    {
      "metadata": {
        "id": "0QRYTkIAM1oG",
        "colab_type": "text"
      },
      "cell_type": "markdown",
      "source": [
        "## Create Panel\n",
        "pandas.Panel(data, items, major_axis, minor_axis, dtype, copy)"
      ]
    },
    {
      "metadata": {
        "id": "QfuW4xh-M5sC",
        "colab_type": "text"
      },
      "cell_type": "markdown",
      "source": [
        "### By passing 3D ndarray"
      ]
    },
    {
      "metadata": {
        "id": "CvRnhhYfM9cX",
        "colab_type": "code",
        "colab": {
          "base_uri": "https://localhost:8080/",
          "height": 102
        },
        "outputId": "7c896cd3-8798-4a8d-b307-5e12280aeb07"
      },
      "cell_type": "code",
      "source": [
        "data = np.random.rand(2,3,4)\n",
        "pn = pd.Panel(data)\n",
        "print(pn)"
      ],
      "execution_count": 19,
      "outputs": [
        {
          "output_type": "stream",
          "text": [
            "<class 'pandas.core.panel.Panel'>\n",
            "Dimensions: 2 (items) x 3 (major_axis) x 4 (minor_axis)\n",
            "Items axis: 0 to 1\n",
            "Major_axis axis: 0 to 2\n",
            "Minor_axis axis: 0 to 3\n"
          ],
          "name": "stdout"
        }
      ]
    },
    {
      "metadata": {
        "id": "AdVBm5JZOEvD",
        "colab_type": "text"
      },
      "cell_type": "markdown",
      "source": [
        "### By passing dictionary of DataFrame objects"
      ]
    },
    {
      "metadata": {
        "id": "d7uPe3ymOJYy",
        "colab_type": "code",
        "colab": {
          "base_uri": "https://localhost:8080/",
          "height": 102
        },
        "outputId": "ea6fdff7-0364-4a62-ccd4-b554f081fe35"
      },
      "cell_type": "code",
      "source": [
        "data = {'A': pd.DataFrame(np.arange(12).reshape(3,4)),\n",
        "        'B': pd.DataFrame(np.random.rand(2,3))}\n",
        "pn = pd.Panel(data)\n",
        "print(pn)"
      ],
      "execution_count": 20,
      "outputs": [
        {
          "output_type": "stream",
          "text": [
            "<class 'pandas.core.panel.Panel'>\n",
            "Dimensions: 2 (items) x 3 (major_axis) x 4 (minor_axis)\n",
            "Items axis: A to B\n",
            "Major_axis axis: 0 to 2\n",
            "Minor_axis axis: 0 to 3\n"
          ],
          "name": "stdout"
        }
      ]
    },
    {
      "metadata": {
        "id": "t4YZvKA9Ol32",
        "colab_type": "text"
      },
      "cell_type": "markdown",
      "source": [
        "## Select data from Panel"
      ]
    },
    {
      "metadata": {
        "id": "fCksuomoOqEw",
        "colab_type": "code",
        "colab": {
          "base_uri": "https://localhost:8080/",
          "height": 544
        },
        "outputId": "c633d7fe-3272-4f11-f9e2-1b9d1d0d8810"
      },
      "cell_type": "code",
      "source": [
        "data = {'A': pd.DataFrame(np.arange(12).reshape(3,4).astype(float)),\n",
        "        'B': pd.DataFrame(np.random.rand(2,3)),\n",
        "        'C': pd.DataFrame(np.random.rand(3,3)),\n",
        "        'D': pd.DataFrame(np.random.rand(1,4))}\n",
        "pn = pd.Panel(data)\n",
        "print(pn)\n",
        "print('\\nitem A\\n', pn['A'])\n",
        "print('\\nitem B & C\\n', pn[['B', 'C']])\n",
        "print('\\nmajor_axis 1\\n', pn.major_xs(1))\n",
        "print('\\nminor_axis 3\\n', pn.minor_xs(3))"
      ],
      "execution_count": 28,
      "outputs": [
        {
          "output_type": "stream",
          "text": [
            "<class 'pandas.core.panel.Panel'>\n",
            "Dimensions: 4 (items) x 3 (major_axis) x 4 (minor_axis)\n",
            "Items axis: A to D\n",
            "Major_axis axis: 0 to 2\n",
            "Minor_axis axis: 0 to 3\n",
            "\n",
            "item A\n",
            "      0    1     2     3\n",
            "0  0.0  1.0   2.0   3.0\n",
            "1  4.0  5.0   6.0   7.0\n",
            "2  8.0  9.0  10.0  11.0\n",
            "\n",
            "item B & C\n",
            " <class 'pandas.core.panel.Panel'>\n",
            "Dimensions: 2 (items) x 3 (major_axis) x 4 (minor_axis)\n",
            "Items axis: B to C\n",
            "Major_axis axis: 0 to 2\n",
            "Minor_axis axis: 0 to 3\n",
            "\n",
            "major_axis 1\n",
            "      A         B         C   D\n",
            "0  4.0  0.584045  0.396597 NaN\n",
            "1  5.0  0.082761  0.654970 NaN\n",
            "2  6.0  0.924154  0.714627 NaN\n",
            "3  7.0       NaN       NaN NaN\n",
            "\n",
            "minor_axis 3\n",
            "       A   B   C         D\n",
            "0   3.0 NaN NaN  0.209115\n",
            "1   7.0 NaN NaN       NaN\n",
            "2  11.0 NaN NaN       NaN\n"
          ],
          "name": "stdout"
        }
      ]
    }
  ]
}
